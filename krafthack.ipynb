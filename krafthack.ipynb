{
  "nbformat": 4,
  "nbformat_minor": 0,
  "metadata": {
    "colab": {
      "name": "krafthack.ipynb",
      "provenance": [],
      "authorship_tag": "ABX9TyNG76Sj6qxlwpUv+B6BzkZy",
      "include_colab_link": true
    },
    "kernelspec": {
      "name": "python3",
      "display_name": "Python 3"
    },
    "language_info": {
      "name": "python"
    }
  },
  "cells": [
    {
      "cell_type": "markdown",
      "metadata": {
        "id": "view-in-github",
        "colab_type": "text"
      },
      "source": [
        "<a href=\"https://colab.research.google.com/github/smedegaard/krafthack/blob/main/krafthack.ipynb\" target=\"_parent\"><img src=\"https://colab.research.google.com/assets/colab-badge.svg\" alt=\"Open In Colab\"/></a>"
      ]
    },
    {
      "cell_type": "markdown",
      "source": [
        "# Krafthack 2022"
      ],
      "metadata": {
        "id": "Gjcih1WjAjR7"
      }
    },
    {
      "cell_type": "code",
      "execution_count": null,
      "metadata": {
        "id": "U0oxRE8MAb7y"
      },
      "outputs": [],
      "source": [
        "# Krafthack 2022"
      ]
    },
    {
      "cell_type": "markdown",
      "source": [
        ""
      ],
      "metadata": {
        "id": "AQmE2h42AeLX"
      }
    }
  ]
}